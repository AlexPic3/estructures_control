{
 "cells": [
  {
   "cell_type": "markdown",
   "id": "d068a9f8",
   "metadata": {
    "toc": true
   },
   "source": [
    "<h1>Table of Contents<span class=\"tocSkip\"></span></h1>\n",
    "<div class=\"toc\"><ul class=\"toc-item\"><li><span><a href=\"#S03-T03-Estructura-de-control\" data-toc-modified-id=\"S03-T03-Estructura-de-control-1\"><span class=\"toc-item-num\">1&nbsp;&nbsp;</span>S03 T03 Estructura de control</a></span></li><li><span><a href=\"#Descripció\" data-toc-modified-id=\"Descripció-2\"><span class=\"toc-item-num\">2&nbsp;&nbsp;</span>Descripció</a></span><ul class=\"toc-item\"><li><span><a href=\"#Nivell-1\" data-toc-modified-id=\"Nivell-1-2.1\"><span class=\"toc-item-num\">2.1&nbsp;&nbsp;</span>Nivell 1</a></span><ul class=\"toc-item\"><li><span><a href=\"#Exercici-1\" data-toc-modified-id=\"Exercici-1-2.1.1\"><span class=\"toc-item-num\">2.1.1&nbsp;&nbsp;</span>Exercici 1</a></span></li><li><span><a href=\"#Exercici-2\" data-toc-modified-id=\"Exercici-2-2.1.2\"><span class=\"toc-item-num\">2.1.2&nbsp;&nbsp;</span>Exercici 2</a></span></li><li><span><a href=\"#Exercici-3\" data-toc-modified-id=\"Exercici-3-2.1.3\"><span class=\"toc-item-num\">2.1.3&nbsp;&nbsp;</span>Exercici 3</a></span></li><li><span><a href=\"#Exercici-4\" data-toc-modified-id=\"Exercici-4-2.1.4\"><span class=\"toc-item-num\">2.1.4&nbsp;&nbsp;</span>Exercici 4</a></span></li><li><span><a href=\"#Exercici-5\" data-toc-modified-id=\"Exercici-5-2.1.5\"><span class=\"toc-item-num\">2.1.5&nbsp;&nbsp;</span>Exercici 5</a></span></li></ul></li></ul></li></ul></div>"
   ]
  },
  {
   "cell_type": "markdown",
   "id": "6247a032",
   "metadata": {
    "heading_collapsed": true
   },
   "source": [
    "# S03 T03 Estructura de control"
   ]
  },
  {
   "cell_type": "markdown",
   "id": "32218d02",
   "metadata": {},
   "source": [
    "# Descripció\n",
    "* Comencem a familiaritzar-nos amb les estructures de control de Python"
   ]
  },
  {
   "cell_type": "markdown",
   "id": "1f604234",
   "metadata": {},
   "source": [
    "## Nivell 1"
   ]
  },
  {
   "cell_type": "markdown",
   "id": "55b4a469",
   "metadata": {
    "heading_collapsed": true
   },
   "source": [
    "### Exercici 1\n",
    "* L'exercici consisteix a crear un programa que et classifiqui una variable numèrica en funció de l’escala Suspès/Aprovat/Notable/Excel·lent."
   ]
  },
  {
   "cell_type": "code",
   "execution_count": 1,
   "id": "b0525c24",
   "metadata": {
    "ExecuteTime": {
     "end_time": "2021-09-26T15:22:00.887737Z",
     "start_time": "2021-09-26T15:21:48.556084Z"
    },
    "hidden": true
   },
   "outputs": [
    {
     "name": "stdout",
     "output_type": "stream",
     "text": [
      "Dona´m una nota del 0 al 10,  \n",
      "6\n",
      "Aprovat\n"
     ]
    }
   ],
   "source": [
    "nota = float(input (\"Dona´m una nota del 0 al 10,  \\n\"))\n",
    "\n",
    "if nota >= 0 and nota <= 10:\n",
    "    if nota >= 0 and nota < 5:\n",
    "        print (\"Suspès\")\n",
    "    elif nota >= 5 and nota <7 :\n",
    "        print (\"Aprovat\")\n",
    "    elif nota >=7 and nota <9 :\n",
    "        print (\"Notable\")\n",
    "    elif nota >=9 and nota <=10 :\n",
    "        print (\"Excel·lent\")\n",
    "else:\n",
    "    print (\"Ha de ser un valor numeric entre el 0 i el 10\")\n"
   ]
  },
  {
   "cell_type": "code",
   "execution_count": 2,
   "id": "39558c1e",
   "metadata": {
    "ExecuteTime": {
     "end_time": "2021-09-26T15:22:05.763463Z",
     "start_time": "2021-09-26T15:22:00.890737Z"
    },
    "hidden": true
   },
   "outputs": [
    {
     "name": "stdout",
     "output_type": "stream",
     "text": [
      "Dona´m una nota del 0 al 10 o escriu 'Exit' per sortir\n",
      "9\n",
      "Excel·lent\n",
      "Dona´m una nota del 0 al 10o escriu 'Exit' per sortir\n",
      "exit\n"
     ]
    }
   ],
   "source": [
    "nota = input (\"Dona´m una nota del 0 al 10 o escriu 'Exit' per sortir\\n\" )\n",
    "#exit = \"\"\n",
    "while nota != 'exit':\n",
    "    notaB = float(nota)\n",
    "    if notaB >= 0 and notaB < 5:\n",
    "        print (\"Suspès\")\n",
    "    elif notaB >= 5 and notaB <7 :\n",
    "        print (\"Aprovat\")\n",
    "    elif notaB >=7 and notaB <9 :\n",
    "        print (\"Notable\")\n",
    "    elif notaB >=9 and notaB <=10 :\n",
    "        print (\"Excel·lent\")\n",
    "    #nota = float(input (\"Dona´m una nota del 0 al 10 \\n\"))\n",
    "    else:    \n",
    "        print (\"Ha de ser un valor numeric entre el 0 i el 10\")\n",
    "    nota = input (\"Dona´m una nota del 0 al 10o escriu 'Exit' per sortir\\n\")"
   ]
  },
  {
   "cell_type": "markdown",
   "id": "4a49f987",
   "metadata": {
    "heading_collapsed": true
   },
   "source": [
    "### Exercici 2\n",
    "* Utilitzant el següent tutorial Programiz: Python Input, Output and Import crea un programa que et pregunti dos números. T’ha de mostrar un missatge dient si el primer és més gran, el segon és més gran o són iguals."
   ]
  },
  {
   "cell_type": "code",
   "execution_count": 3,
   "id": "23631461",
   "metadata": {
    "ExecuteTime": {
     "end_time": "2021-09-26T15:22:13.637900Z",
     "start_time": "2021-09-26T15:22:05.767463Z"
    },
    "hidden": true
   },
   "outputs": [
    {
     "name": "stdout",
     "output_type": "stream",
     "text": [
      "Dona´m un primer numero \n",
      "3\n",
      "Dona´m un segon numero \n",
      "5\n",
      "El segon número: 5 és major que el primer número: 3\n"
     ]
    }
   ],
   "source": [
    "num1 = input (\"Dona´m un primer numero \\n\")\n",
    "num2 = input (\"Dona´m un segon numero \\n\")\n",
    "\n",
    "if num1 == num2:\n",
    "    print (f\"El primer número: {num1} i el segon número: {num2} són iguals\")\n",
    "elif num1 < num2 :\n",
    "    print (f\"El segon número: {num2} és major que el primer número: {num1}\")\n",
    "elif num1 > num2 :\n",
    "    print (f\"El primer número: {num1} és major que el segon número: {num2}\")\n",
    "    "
   ]
  },
  {
   "cell_type": "markdown",
   "id": "21f40c20",
   "metadata": {
    "heading_collapsed": true
   },
   "source": [
    "### Exercici 3\n",
    "* Crea un programa que et pregunti el teu nom, i et demani un número. Si el número és 0, hauria de mostrar un missatge d’error. En cas contrari, hauria de mostrar el nom repetit tants cops com indiqui el número. Per exemple, “Joan Joan Joan”."
   ]
  },
  {
   "cell_type": "code",
   "execution_count": 4,
   "id": "c6991321",
   "metadata": {
    "ExecuteTime": {
     "end_time": "2021-09-26T15:22:17.624054Z",
     "start_time": "2021-09-26T15:22:13.642900Z"
    },
    "hidden": true
   },
   "outputs": [
    {
     "name": "stdout",
     "output_type": "stream",
     "text": [
      "Escriu el teu nom \n",
      "asd\n",
      "Introdueix un número que no sigui '0' \n",
      "3\n",
      "asd\n",
      "asd\n",
      "asd\n"
     ]
    }
   ],
   "source": [
    "nom = input (\"Escriu el teu nom \\n\")\n",
    "num = int(input (\"Introdueix un número que no sigui '0' \\n\"))\n",
    "cont = 0\n",
    "\n",
    "if num != 0:\n",
    "    while num > cont:\n",
    "        print (nom)\n",
    "        cont +=1\n",
    "else :\n",
    "    print(\"Error el numero no pot ser '0'\")\n",
    "        "
   ]
  },
  {
   "cell_type": "markdown",
   "id": "dee0a53a",
   "metadata": {},
   "source": [
    "### Exercici 4\n",
    "* Crea un programa que donada una llista qualsevol, et digui si es simètrica o no. Si ho és, que et digui quants elements té."
   ]
  },
  {
   "cell_type": "code",
   "execution_count": 30,
   "id": "bf3779d1",
   "metadata": {
    "ExecuteTime": {
     "end_time": "2021-09-26T16:46:43.192843Z",
     "start_time": "2021-09-26T16:46:43.187842Z"
    }
   },
   "outputs": [
    {
     "name": "stdout",
     "output_type": "stream",
     "text": [
      "La llista [1, 2, 3, 3, 2, 1] es simetricas\n"
     ]
    }
   ],
   "source": [
    "# Codi per generar la llista de forma automàtica\n",
    "# import random as ra\n",
    "# long = int(input(\"Introdueix el número de elements de la llista \\n\"))\n",
    "# llista = []\n",
    "# for i in range(0,long):\n",
    "#     n = ra.randrange(0,long)\n",
    "#     llista.append(n)\n",
    "# print(llista)\n",
    "#[0,2,2,3,4,1,0]\n",
    "\n",
    "llistaS = [1,2,3,3,2,1]\n",
    "llistaSR = llistaS.copy()\n",
    "llistaSR.reverse()\n",
    "#print (llistaSR)\n",
    "#print (len(llistaS))\n",
    "\n",
    "# Suposant que una llista simètrica és del tipus: [1,2,3,3,2,1] 0 [1,2,3,2,1]..\n",
    "# En cas que sigui una de les opcions anteriors hauríem d'afegir al codi una línia per\n",
    "# destriar aquelles llistes de nombre d'elements parells o senars. Exemple llistes\n",
    "# tipus [1,2,3,3,2,1]\n",
    "\n",
    "if len(llistaS)%2 == 0:\n",
    "    if llistaS == llistaSR:\n",
    "        print (f\"La llista {llistaS} es simetricas\")\n",
    "else:\n",
    "    print (f\"No pot ser una llista simetrica perque el numero d'elements es senar\\\n",
    "           El numero de elements es: {len(llistaS)}\")\n"
   ]
  },
  {
   "cell_type": "markdown",
   "id": "cebc4cae",
   "metadata": {},
   "source": [
    "### Exercici 5\n",
    "* Crea un programa que donada una llista, et digui quants números coincideixen amb la seva posició. Per exemple [3,4,2,0,2,3,6] el 2 i el 6 coincideixen."
   ]
  },
  {
   "cell_type": "code",
   "execution_count": 10,
   "id": "d629621e",
   "metadata": {
    "ExecuteTime": {
     "end_time": "2021-09-26T15:24:05.904253Z",
     "start_time": "2021-09-26T15:24:03.859175Z"
    }
   },
   "outputs": [
    {
     "name": "stdout",
     "output_type": "stream",
     "text": [
      "Introdueix el número de elements de la llista \n",
      "34\n",
      "El numero 8 coincideix amb la posicio 8 de la llista [3, 14, 6, 18, 16, 2, 22, 6, 8, 11, 20, 12, 18, 1, 5, 8, 20, 14, 31, 1, 6, 13, 11, 11, 22, 28, 23, 20, 21, 13, 19, 20, 16, 19]\n"
     ]
    }
   ],
   "source": [
    "import random as ra\n",
    "long = int(input(\"Introdueix el número de elements de la llista \\n\"))\n",
    "llista = []\n",
    "for i in range(0,long):\n",
    "    n = ra.randrange(0,long)\n",
    "    llista.append(n)\n",
    "# print(llista)\n",
    "#llista = [0,1,3,3,4,8,10]\n",
    "for i in range(len(llista)):\n",
    "    #print (i)\n",
    "    if llista[i] == i:\n",
    "        print (f\"El numero {llista[i]} coincideix amb la posicio {i} de la llista {llista}\") \n",
    "        \n"
   ]
  },
  {
   "cell_type": "code",
   "execution_count": null,
   "id": "cd9c928b",
   "metadata": {},
   "outputs": [],
   "source": []
  }
 ],
 "metadata": {
  "hide_input": false,
  "kernelspec": {
   "display_name": "Python 3",
   "language": "python",
   "name": "python3"
  },
  "language_info": {
   "codemirror_mode": {
    "name": "ipython",
    "version": 3
   },
   "file_extension": ".py",
   "mimetype": "text/x-python",
   "name": "python",
   "nbconvert_exporter": "python",
   "pygments_lexer": "ipython3",
   "version": "3.8.8"
  },
  "toc": {
   "base_numbering": 1,
   "nav_menu": {},
   "number_sections": true,
   "sideBar": true,
   "skip_h1_title": false,
   "title_cell": "Table of Contents",
   "title_sidebar": "Contents",
   "toc_cell": true,
   "toc_position": {},
   "toc_section_display": true,
   "toc_window_display": false
  },
  "varInspector": {
   "cols": {
    "lenName": 16,
    "lenType": 16,
    "lenVar": 40
   },
   "kernels_config": {
    "python": {
     "delete_cmd_postfix": "",
     "delete_cmd_prefix": "del ",
     "library": "var_list.py",
     "varRefreshCmd": "print(var_dic_list())"
    },
    "r": {
     "delete_cmd_postfix": ") ",
     "delete_cmd_prefix": "rm(",
     "library": "var_list.r",
     "varRefreshCmd": "cat(var_dic_list()) "
    }
   },
   "position": {
    "height": "436px",
    "left": "585px",
    "right": "20px",
    "top": "120px",
    "width": "353px"
   },
   "types_to_exclude": [
    "module",
    "function",
    "builtin_function_or_method",
    "instance",
    "_Feature"
   ],
   "window_display": false
  }
 },
 "nbformat": 4,
 "nbformat_minor": 5
}
